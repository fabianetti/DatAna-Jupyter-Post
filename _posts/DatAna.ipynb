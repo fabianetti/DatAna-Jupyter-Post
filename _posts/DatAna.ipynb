{
  "nbformat": 4,
  "nbformat_minor": 0,
  "metadata": {
    "colab": {
      "name": "DatAna.ipynb",
      "provenance": []
    },
    "kernelspec": {
      "name": "python3",
      "display_name": "Python 3"
    },
    "language_info": {
      "name": "python"
    }
  },
  "cells": [
    {
      "cell_type": "markdown",
      "metadata": {
        "id": "tHzazQVp_uLR"
      },
      "source": [
        "# Deep Learning 9 Questions of Life\n",
        "\n",
        "By answering the following nine questions, I'll be one step closer to finding the true secret of the Zebras.\n",
        "\n",
        "## 1 - Can we always use a random sample for a validation set?\n",
        "\n",
        "No, when trying to make a prediction for the future, there is no point of predicting a random value in the past. In that case the validation set needs to consist of only the latest values.\n",
        "\n",
        "## 2 - What is overfitting?\n",
        "\n",
        "When training a model for too long or without enough data, the model remembers the prior predictions, without learning the traits that defined the decision.\n",
        "\n",
        "## 3 - What is a metric? How does it differ from loss?\n",
        "\n",
        "Loss is the value that the model tries to minimize, a metric is printed after each epoch for the user to see how the model performed. Especially in a classification problem, the loss value might change slightely while the prediction (and with it the metric) remains the same.\n",
        "\n",
        "## 4 - How can pretrained models help?\n",
        "\n",
        "Pretrained Models are used in Transfer Learning\n",
        "\n",
        "## 5 - What is the head of a model?\n",
        "\n",
        "The Neural Network?\n",
        "\n",
        "## 6 - What kinds of features do the early layers of a CNN find?\n",
        "\n",
        "In first layer it's just edges and gradients, in the second layer circles, semi-circles and repeating patterns can be found, in the third layer text, persons, repeating geometric patterns. From layer 4 onwards the features become distinct like dog faces.\n",
        "\n",
        "## 7 - Are image models only useful for photos?\n",
        "\n",
        "No, sound, mouse movent, viruses, etc can be converted into images.\n",
        "\n",
        "## 8 - What is an architecture?\n",
        "\n",
        "The mathematical function of a model that uses input data and parameters.\n",
        "\n",
        "## 9 - What is a segmentation?\n",
        "\n",
        "The model classifies every pixel of an image.\n",
        "\n",
        "# What did I learn?\n",
        "\n",
        "Having made some experiences from the BA with Image Processing the general idea was no news to me. However, I didn't know about the exact termination, like architecture or segmentation."
      ]
    }
  ]
}